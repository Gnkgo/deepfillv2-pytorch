{
    "cells": [
        {
            "cell_type": "code",
            "execution_count": 5,
            "metadata": {},
            "outputs": [],
            "source": [
                "import torch\n",
                "import torchvision.transforms as T\n",
                "import matplotlib.pyplot as plt\n",
                "from PIL import Image\n",
                "\n",
                "# from model.networks_tf import Generator\n",
                "from model.networks import Generator\n",
                "\n",
                "plt.rcParams['figure.facecolor'] = 'white'"
            ]
        },
        {
            "attachments": {},
            "cell_type": "markdown",
            "metadata": {},
            "source": [
                "## Load generator model\n"
            ]
        },
        {
            "cell_type": "code",
            "execution_count": 7,
            "metadata": {},
            "outputs": [
                {
                    "ename": "RuntimeError",
                    "evalue": "Error(s) in loading state_dict for Generator:\n\tMissing key(s) in state_dict: \"stage1.conv1.conv.weight\", \"stage1.conv1.conv.bias\", \"stage1.down_block1.conv1_downsample.conv.weight\", \"stage1.down_block1.conv1_downsample.conv.bias\", \"stage1.down_block1.conv2.conv.weight\", \"stage1.down_block1.conv2.conv.bias\", \"stage1.down_block2.conv1_downsample.conv.weight\", \"stage1.down_block2.conv1_downsample.conv.bias\", \"stage1.down_block2.conv2.conv.weight\", \"stage1.down_block2.conv2.conv.bias\", \"stage1.conv_bn1.conv.weight\", \"stage1.conv_bn1.conv.bias\", \"stage1.conv_bn2.conv.weight\", \"stage1.conv_bn2.conv.bias\", \"stage1.conv_bn3.conv.weight\", \"stage1.conv_bn3.conv.bias\", \"stage1.conv_bn4.conv.weight\", \"stage1.conv_bn4.conv.bias\", \"stage1.conv_bn5.conv.weight\", \"stage1.conv_bn5.conv.bias\", \"stage1.conv_bn6.conv.weight\", \"stage1.conv_bn6.conv.bias\", \"stage1.conv_bn7.conv.weight\", \"stage1.conv_bn7.conv.bias\", \"stage1.up_block1.conv1_upsample.conv.conv.weight\", \"stage1.up_block1.conv1_upsample.conv.conv.bias\", \"stage1.up_block1.conv2.conv.weight\", \"stage1.up_block1.conv2.conv.bias\", \"stage1.up_block2.conv1_upsample.conv.conv.weight\", \"stage1.up_block2.conv1_upsample.conv.conv.bias\", \"stage1.up_block2.conv2.conv.weight\", \"stage1.up_block2.conv2.conv.bias\", \"stage1.conv_to_rgb.conv.weight\", \"stage1.conv_to_rgb.conv.bias\", \"stage2.conv_conv1.conv.weight\", \"stage2.conv_conv1.conv.bias\", \"stage2.conv_down_block1.conv1_downsample.conv.weight\", \"stage2.conv_down_block1.conv1_downsample.conv.bias\", \"stage2.conv_down_block1.conv2.conv.weight\", \"stage2.conv_down_block1.conv2.conv.bias\", \"stage2.conv_down_block2.conv1_downsample.conv.weight\", \"stage2.conv_down_block2.conv1_downsample.conv.bias\", \"stage2.conv_down_block2.conv2.conv.weight\", \"stage2.conv_down_block2.conv2.conv.bias\", \"stage2.conv_conv_bn1.conv.weight\", \"stage2.conv_conv_bn1.conv.bias\", \"stage2.conv_conv_bn2.conv.weight\", \"stage2.conv_conv_bn2.conv.bias\", \"stage2.conv_conv_bn3.conv.weight\", \"stage2.conv_conv_bn3.conv.bias\", \"stage2.conv_conv_bn4.conv.weight\", \"stage2.conv_conv_bn4.conv.bias\", \"stage2.conv_conv_bn5.conv.weight\", \"stage2.conv_conv_bn5.conv.bias\", \"stage2.ca_conv1.conv.weight\", \"stage2.ca_conv1.conv.bias\", \"stage2.ca_down_block1.conv1_downsample.conv.weight\", \"stage2.ca_down_block1.conv1_downsample.conv.bias\", \"stage2.ca_down_block1.conv2.conv.weight\", \"stage2.ca_down_block1.conv2.conv.bias\", \"stage2.ca_down_block2.conv1_downsample.conv.weight\", \"stage2.ca_down_block2.conv1_downsample.conv.bias\", \"stage2.ca_down_block2.conv2.conv.weight\", \"stage2.ca_down_block2.conv2.conv.bias\", \"stage2.ca_conv_bn1.conv.weight\", \"stage2.ca_conv_bn1.conv.bias\", \"stage2.contextual_attention.fuse_weight\", \"stage2.ca_conv_bn4.conv.weight\", \"stage2.ca_conv_bn4.conv.bias\", \"stage2.ca_conv_bn5.conv.weight\", \"stage2.ca_conv_bn5.conv.bias\", \"stage2.conv_bn6.conv.weight\", \"stage2.conv_bn6.conv.bias\", \"stage2.conv_bn7.conv.weight\", \"stage2.conv_bn7.conv.bias\", \"stage2.up_block1.conv1_upsample.conv.conv.weight\", \"stage2.up_block1.conv1_upsample.conv.conv.bias\", \"stage2.up_block1.conv2.conv.weight\", \"stage2.up_block1.conv2.conv.bias\", \"stage2.up_block2.conv1_upsample.conv.conv.weight\", \"stage2.up_block2.conv1_upsample.conv.conv.bias\", \"stage2.up_block2.conv2.conv.weight\", \"stage2.up_block2.conv2.conv.bias\", \"stage2.conv_to_rgb.conv.weight\", \"stage2.conv_to_rgb.conv.bias\". \n\tUnexpected key(s) in state_dict: \"conv1.conv.weight\", \"conv1.conv.bias\", \"conv2_downsample.conv.weight\", \"conv2_downsample.conv.bias\", \"conv3.conv.weight\", \"conv3.conv.bias\", \"conv4_downsample.conv.weight\", \"conv4_downsample.conv.bias\", \"conv5.conv.weight\", \"conv5.conv.bias\", \"conv6.conv.weight\", \"conv6.conv.bias\", \"conv7_atrous.conv.weight\", \"conv7_atrous.conv.bias\", \"conv8_atrous.conv.weight\", \"conv8_atrous.conv.bias\", \"conv9_atrous.conv.weight\", \"conv9_atrous.conv.bias\", \"conv10_atrous.conv.weight\", \"conv10_atrous.conv.bias\", \"conv11.conv.weight\", \"conv11.conv.bias\", \"conv12.conv.weight\", \"conv12.conv.bias\", \"conv13_upsample.conv.conv.weight\", \"conv13_upsample.conv.conv.bias\", \"conv14.conv.weight\", \"conv14.conv.bias\", \"conv15_upsample.conv.conv.weight\", \"conv15_upsample.conv.conv.bias\", \"conv16.conv.weight\", \"conv16.conv.bias\", \"conv17.conv.weight\", \"conv17.conv.bias\", \"xconv1.conv.weight\", \"xconv1.conv.bias\", \"xconv2_downsample.conv.weight\", \"xconv2_downsample.conv.bias\", \"xconv3.conv.weight\", \"xconv3.conv.bias\", \"xconv4_downsample.conv.weight\", \"xconv4_downsample.conv.bias\", \"xconv5.conv.weight\", \"xconv5.conv.bias\", \"xconv6.conv.weight\", \"xconv6.conv.bias\", \"xconv7_atrous.conv.weight\", \"xconv7_atrous.conv.bias\", \"xconv8_atrous.conv.weight\", \"xconv8_atrous.conv.bias\", \"xconv9_atrous.conv.weight\", \"xconv9_atrous.conv.bias\", \"xconv10_atrous.conv.weight\", \"xconv10_atrous.conv.bias\", \"pmconv1.conv.weight\", \"pmconv1.conv.bias\", \"pmconv2_downsample.conv.weight\", \"pmconv2_downsample.conv.bias\", \"pmconv3.conv.weight\", \"pmconv3.conv.bias\", \"pmconv4_downsample.conv.weight\", \"pmconv4_downsample.conv.bias\", \"pmconv5.conv.weight\", \"pmconv5.conv.bias\", \"pmconv6.conv.weight\", \"pmconv6.conv.bias\", \"pmconv9.conv.weight\", \"pmconv9.conv.bias\", \"pmconv10.conv.weight\", \"pmconv10.conv.bias\", \"allconv11.conv.weight\", \"allconv11.conv.bias\", \"allconv12.conv.weight\", \"allconv12.conv.bias\", \"allconv13_upsample.conv.conv.weight\", \"allconv13_upsample.conv.conv.bias\", \"allconv14.conv.weight\", \"allconv14.conv.bias\", \"allconv15_upsample.conv.conv.weight\", \"allconv15_upsample.conv.conv.bias\", \"allconv16.conv.weight\", \"allconv16.conv.bias\", \"allconv17.conv.weight\", \"allconv17.conv.bias\". ",
                    "output_type": "error",
                    "traceback": [
                        "\u001b[1;31m---------------------------------------------------------------------------\u001b[0m",
                        "\u001b[1;31mRuntimeError\u001b[0m                              Traceback (most recent call last)",
                        "Cell \u001b[1;32mIn[7], line 8\u001b[0m\n\u001b[0;32m      5\u001b[0m \u001b[38;5;66;03m# sd_path = 'pretrained/states_tf_places2.pth'\u001b[39;00m\n\u001b[0;32m      6\u001b[0m sd_path \u001b[38;5;241m=\u001b[39m \u001b[38;5;124m'\u001b[39m\u001b[38;5;124mpretrained/states_tf_celebahq.pth\u001b[39m\u001b[38;5;124m'\u001b[39m\n\u001b[1;32m----> 8\u001b[0m generator \u001b[38;5;241m=\u001b[39m \u001b[43mGenerator\u001b[49m\u001b[43m(\u001b[49m\u001b[43mcheckpoint\u001b[49m\u001b[38;5;241;43m=\u001b[39;49m\u001b[43msd_path\u001b[49m\u001b[43m,\u001b[49m\u001b[43m \u001b[49m\u001b[43mreturn_flow\u001b[49m\u001b[38;5;241;43m=\u001b[39;49m\u001b[38;5;28;43;01mTrue\u001b[39;49;00m\u001b[43m)\u001b[49m\u001b[38;5;241m.\u001b[39mto(device)\n",
                        "File \u001b[1;32mc:\\Users\\Joanna Brodbeck\\Documents\\GitHub\\deepfillv2-pytorch\\model\\networks.py:315\u001b[0m, in \u001b[0;36mGenerator.__init__\u001b[1;34m(self, cnum_in, cnum_out, cnum, return_flow, checkpoint)\u001b[0m\n\u001b[0;32m    313\u001b[0m \u001b[38;5;28;01mif\u001b[39;00m checkpoint \u001b[38;5;129;01mis\u001b[39;00m \u001b[38;5;129;01mnot\u001b[39;00m \u001b[38;5;28;01mNone\u001b[39;00m:\n\u001b[0;32m    314\u001b[0m     generator_state_dict \u001b[38;5;241m=\u001b[39m torch\u001b[38;5;241m.\u001b[39mload(checkpoint)[\u001b[38;5;124m'\u001b[39m\u001b[38;5;124mG\u001b[39m\u001b[38;5;124m'\u001b[39m]\n\u001b[1;32m--> 315\u001b[0m     \u001b[38;5;28;43mself\u001b[39;49m\u001b[38;5;241;43m.\u001b[39;49m\u001b[43mload_state_dict\u001b[49m\u001b[43m(\u001b[49m\u001b[43mgenerator_state_dict\u001b[49m\u001b[43m,\u001b[49m\u001b[43m \u001b[49m\u001b[43mstrict\u001b[49m\u001b[38;5;241;43m=\u001b[39;49m\u001b[38;5;28;43;01mTrue\u001b[39;49;00m\u001b[43m)\u001b[49m\n\u001b[0;32m    317\u001b[0m \u001b[38;5;28mself\u001b[39m\u001b[38;5;241m.\u001b[39meval()\n",
                        "File \u001b[1;32mc:\\Users\\Joanna Brodbeck\\miniconda3\\envs\\machine-learning\\Lib\\site-packages\\torch\\nn\\modules\\module.py:2153\u001b[0m, in \u001b[0;36mModule.load_state_dict\u001b[1;34m(self, state_dict, strict, assign)\u001b[0m\n\u001b[0;32m   2148\u001b[0m         error_msgs\u001b[38;5;241m.\u001b[39minsert(\n\u001b[0;32m   2149\u001b[0m             \u001b[38;5;241m0\u001b[39m, \u001b[38;5;124m'\u001b[39m\u001b[38;5;124mMissing key(s) in state_dict: \u001b[39m\u001b[38;5;132;01m{}\u001b[39;00m\u001b[38;5;124m. \u001b[39m\u001b[38;5;124m'\u001b[39m\u001b[38;5;241m.\u001b[39mformat(\n\u001b[0;32m   2150\u001b[0m                 \u001b[38;5;124m'\u001b[39m\u001b[38;5;124m, \u001b[39m\u001b[38;5;124m'\u001b[39m\u001b[38;5;241m.\u001b[39mjoin(\u001b[38;5;124mf\u001b[39m\u001b[38;5;124m'\u001b[39m\u001b[38;5;124m\"\u001b[39m\u001b[38;5;132;01m{\u001b[39;00mk\u001b[38;5;132;01m}\u001b[39;00m\u001b[38;5;124m\"\u001b[39m\u001b[38;5;124m'\u001b[39m \u001b[38;5;28;01mfor\u001b[39;00m k \u001b[38;5;129;01min\u001b[39;00m missing_keys)))\n\u001b[0;32m   2152\u001b[0m \u001b[38;5;28;01mif\u001b[39;00m \u001b[38;5;28mlen\u001b[39m(error_msgs) \u001b[38;5;241m>\u001b[39m \u001b[38;5;241m0\u001b[39m:\n\u001b[1;32m-> 2153\u001b[0m     \u001b[38;5;28;01mraise\u001b[39;00m \u001b[38;5;167;01mRuntimeError\u001b[39;00m(\u001b[38;5;124m'\u001b[39m\u001b[38;5;124mError(s) in loading state_dict for \u001b[39m\u001b[38;5;132;01m{}\u001b[39;00m\u001b[38;5;124m:\u001b[39m\u001b[38;5;130;01m\\n\u001b[39;00m\u001b[38;5;130;01m\\t\u001b[39;00m\u001b[38;5;132;01m{}\u001b[39;00m\u001b[38;5;124m'\u001b[39m\u001b[38;5;241m.\u001b[39mformat(\n\u001b[0;32m   2154\u001b[0m                        \u001b[38;5;28mself\u001b[39m\u001b[38;5;241m.\u001b[39m\u001b[38;5;18m__class__\u001b[39m\u001b[38;5;241m.\u001b[39m\u001b[38;5;18m__name__\u001b[39m, \u001b[38;5;124m\"\u001b[39m\u001b[38;5;130;01m\\n\u001b[39;00m\u001b[38;5;130;01m\\t\u001b[39;00m\u001b[38;5;124m\"\u001b[39m\u001b[38;5;241m.\u001b[39mjoin(error_msgs)))\n\u001b[0;32m   2155\u001b[0m \u001b[38;5;28;01mreturn\u001b[39;00m _IncompatibleKeys(missing_keys, unexpected_keys)\n",
                        "\u001b[1;31mRuntimeError\u001b[0m: Error(s) in loading state_dict for Generator:\n\tMissing key(s) in state_dict: \"stage1.conv1.conv.weight\", \"stage1.conv1.conv.bias\", \"stage1.down_block1.conv1_downsample.conv.weight\", \"stage1.down_block1.conv1_downsample.conv.bias\", \"stage1.down_block1.conv2.conv.weight\", \"stage1.down_block1.conv2.conv.bias\", \"stage1.down_block2.conv1_downsample.conv.weight\", \"stage1.down_block2.conv1_downsample.conv.bias\", \"stage1.down_block2.conv2.conv.weight\", \"stage1.down_block2.conv2.conv.bias\", \"stage1.conv_bn1.conv.weight\", \"stage1.conv_bn1.conv.bias\", \"stage1.conv_bn2.conv.weight\", \"stage1.conv_bn2.conv.bias\", \"stage1.conv_bn3.conv.weight\", \"stage1.conv_bn3.conv.bias\", \"stage1.conv_bn4.conv.weight\", \"stage1.conv_bn4.conv.bias\", \"stage1.conv_bn5.conv.weight\", \"stage1.conv_bn5.conv.bias\", \"stage1.conv_bn6.conv.weight\", \"stage1.conv_bn6.conv.bias\", \"stage1.conv_bn7.conv.weight\", \"stage1.conv_bn7.conv.bias\", \"stage1.up_block1.conv1_upsample.conv.conv.weight\", \"stage1.up_block1.conv1_upsample.conv.conv.bias\", \"stage1.up_block1.conv2.conv.weight\", \"stage1.up_block1.conv2.conv.bias\", \"stage1.up_block2.conv1_upsample.conv.conv.weight\", \"stage1.up_block2.conv1_upsample.conv.conv.bias\", \"stage1.up_block2.conv2.conv.weight\", \"stage1.up_block2.conv2.conv.bias\", \"stage1.conv_to_rgb.conv.weight\", \"stage1.conv_to_rgb.conv.bias\", \"stage2.conv_conv1.conv.weight\", \"stage2.conv_conv1.conv.bias\", \"stage2.conv_down_block1.conv1_downsample.conv.weight\", \"stage2.conv_down_block1.conv1_downsample.conv.bias\", \"stage2.conv_down_block1.conv2.conv.weight\", \"stage2.conv_down_block1.conv2.conv.bias\", \"stage2.conv_down_block2.conv1_downsample.conv.weight\", \"stage2.conv_down_block2.conv1_downsample.conv.bias\", \"stage2.conv_down_block2.conv2.conv.weight\", \"stage2.conv_down_block2.conv2.conv.bias\", \"stage2.conv_conv_bn1.conv.weight\", \"stage2.conv_conv_bn1.conv.bias\", \"stage2.conv_conv_bn2.conv.weight\", \"stage2.conv_conv_bn2.conv.bias\", \"stage2.conv_conv_bn3.conv.weight\", \"stage2.conv_conv_bn3.conv.bias\", \"stage2.conv_conv_bn4.conv.weight\", \"stage2.conv_conv_bn4.conv.bias\", \"stage2.conv_conv_bn5.conv.weight\", \"stage2.conv_conv_bn5.conv.bias\", \"stage2.ca_conv1.conv.weight\", \"stage2.ca_conv1.conv.bias\", \"stage2.ca_down_block1.conv1_downsample.conv.weight\", \"stage2.ca_down_block1.conv1_downsample.conv.bias\", \"stage2.ca_down_block1.conv2.conv.weight\", \"stage2.ca_down_block1.conv2.conv.bias\", \"stage2.ca_down_block2.conv1_downsample.conv.weight\", \"stage2.ca_down_block2.conv1_downsample.conv.bias\", \"stage2.ca_down_block2.conv2.conv.weight\", \"stage2.ca_down_block2.conv2.conv.bias\", \"stage2.ca_conv_bn1.conv.weight\", \"stage2.ca_conv_bn1.conv.bias\", \"stage2.contextual_attention.fuse_weight\", \"stage2.ca_conv_bn4.conv.weight\", \"stage2.ca_conv_bn4.conv.bias\", \"stage2.ca_conv_bn5.conv.weight\", \"stage2.ca_conv_bn5.conv.bias\", \"stage2.conv_bn6.conv.weight\", \"stage2.conv_bn6.conv.bias\", \"stage2.conv_bn7.conv.weight\", \"stage2.conv_bn7.conv.bias\", \"stage2.up_block1.conv1_upsample.conv.conv.weight\", \"stage2.up_block1.conv1_upsample.conv.conv.bias\", \"stage2.up_block1.conv2.conv.weight\", \"stage2.up_block1.conv2.conv.bias\", \"stage2.up_block2.conv1_upsample.conv.conv.weight\", \"stage2.up_block2.conv1_upsample.conv.conv.bias\", \"stage2.up_block2.conv2.conv.weight\", \"stage2.up_block2.conv2.conv.bias\", \"stage2.conv_to_rgb.conv.weight\", \"stage2.conv_to_rgb.conv.bias\". \n\tUnexpected key(s) in state_dict: \"conv1.conv.weight\", \"conv1.conv.bias\", \"conv2_downsample.conv.weight\", \"conv2_downsample.conv.bias\", \"conv3.conv.weight\", \"conv3.conv.bias\", \"conv4_downsample.conv.weight\", \"conv4_downsample.conv.bias\", \"conv5.conv.weight\", \"conv5.conv.bias\", \"conv6.conv.weight\", \"conv6.conv.bias\", \"conv7_atrous.conv.weight\", \"conv7_atrous.conv.bias\", \"conv8_atrous.conv.weight\", \"conv8_atrous.conv.bias\", \"conv9_atrous.conv.weight\", \"conv9_atrous.conv.bias\", \"conv10_atrous.conv.weight\", \"conv10_atrous.conv.bias\", \"conv11.conv.weight\", \"conv11.conv.bias\", \"conv12.conv.weight\", \"conv12.conv.bias\", \"conv13_upsample.conv.conv.weight\", \"conv13_upsample.conv.conv.bias\", \"conv14.conv.weight\", \"conv14.conv.bias\", \"conv15_upsample.conv.conv.weight\", \"conv15_upsample.conv.conv.bias\", \"conv16.conv.weight\", \"conv16.conv.bias\", \"conv17.conv.weight\", \"conv17.conv.bias\", \"xconv1.conv.weight\", \"xconv1.conv.bias\", \"xconv2_downsample.conv.weight\", \"xconv2_downsample.conv.bias\", \"xconv3.conv.weight\", \"xconv3.conv.bias\", \"xconv4_downsample.conv.weight\", \"xconv4_downsample.conv.bias\", \"xconv5.conv.weight\", \"xconv5.conv.bias\", \"xconv6.conv.weight\", \"xconv6.conv.bias\", \"xconv7_atrous.conv.weight\", \"xconv7_atrous.conv.bias\", \"xconv8_atrous.conv.weight\", \"xconv8_atrous.conv.bias\", \"xconv9_atrous.conv.weight\", \"xconv9_atrous.conv.bias\", \"xconv10_atrous.conv.weight\", \"xconv10_atrous.conv.bias\", \"pmconv1.conv.weight\", \"pmconv1.conv.bias\", \"pmconv2_downsample.conv.weight\", \"pmconv2_downsample.conv.bias\", \"pmconv3.conv.weight\", \"pmconv3.conv.bias\", \"pmconv4_downsample.conv.weight\", \"pmconv4_downsample.conv.bias\", \"pmconv5.conv.weight\", \"pmconv5.conv.bias\", \"pmconv6.conv.weight\", \"pmconv6.conv.bias\", \"pmconv9.conv.weight\", \"pmconv9.conv.bias\", \"pmconv10.conv.weight\", \"pmconv10.conv.bias\", \"allconv11.conv.weight\", \"allconv11.conv.bias\", \"allconv12.conv.weight\", \"allconv12.conv.bias\", \"allconv13_upsample.conv.conv.weight\", \"allconv13_upsample.conv.conv.bias\", \"allconv14.conv.weight\", \"allconv14.conv.bias\", \"allconv15_upsample.conv.conv.weight\", \"allconv15_upsample.conv.conv.bias\", \"allconv16.conv.weight\", \"allconv16.conv.bias\", \"allconv17.conv.weight\", \"allconv17.conv.bias\". "
                    ]
                }
            ],
            "source": [
                "use_cuda_if_available = False\n",
                "device = torch.device('cuda' if torch.cuda.is_available() \n",
                "                             and use_cuda_if_available else 'cpu')\n",
                "\n",
                "# sd_path = 'pretrained/states_tf_places2.pth'\n",
                "sd_path = 'pretrained/states_tf_celebahq.pth'\n",
                "\n",
                "generator = Generator(checkpoint=sd_path, return_flow=True).to(device)"
            ]
        },
        {
            "attachments": {},
            "cell_type": "markdown",
            "metadata": {},
            "source": [
                "## Load image and mask\n"
            ]
        },
        {
            "cell_type": "code",
            "execution_count": null,
            "metadata": {},
            "outputs": [],
            "source": [
                "n = 1\n",
                "image_path = f\"examples/inpaint/case{n}.png\"\n",
                "mask_path = f\"examples/inpaint/case{n}_mask.png\"\n",
                "\n",
                "image_pil = Image.open(image_path)\n",
                "mask_pil = Image.open(mask_path)"
            ]
        },
        {
            "attachments": {},
            "cell_type": "markdown",
            "metadata": {},
            "source": [
                "## Plot raw image and mask\n"
            ]
        },
        {
            "cell_type": "code",
            "execution_count": null,
            "metadata": {},
            "outputs": [],
            "source": [
                "_, (ax1, ax2) = plt.subplots(1, 2, figsize=(15, 10))\n",
                "ax1.imshow(image_pil)  # plot raw image\n",
                "ax2.imshow(mask_pil.convert('L'))   # plot mask\n",
                "plt.show()"
            ]
        },
        {
            "attachments": {},
            "cell_type": "markdown",
            "metadata": {},
            "source": [
                "## Inpaint"
            ]
        },
        {
            "cell_type": "code",
            "execution_count": null,
            "metadata": {},
            "outputs": [],
            "source": [
                "image = T.ToTensor()(image_pil).to(device)\n",
                "mask = T.ToTensor()(mask_pil).to(device)\n",
                "\n",
                "output = generator.infer(image, mask, return_vals=['inpainted', 'stage1', 'stage2', 'flow'])\n"
            ]
        },
        {
            "attachments": {},
            "cell_type": "markdown",
            "metadata": {},
            "source": [
                "## Results\n"
            ]
        },
        {
            "cell_type": "code",
            "execution_count": null,
            "metadata": {},
            "outputs": [],
            "source": [
                "mask = (mask[0:1] > 0.).to(dtype=torch.float32)\n",
                "image_masked = (image*(1-mask)).permute(1, 2, 0).cpu()\n",
                "\n",
                "print(\"Result:\")\n",
                "plt.figure(figsize=(10, 8))\n",
                "plt.imshow(output[0])\n",
                "plt.show()\n",
                "\n",
                "w, h = image_pil.size\n",
                "\n",
                "print(\"\"\"| Raw | Masked |\n",
                "| Stage1 | Stage2 |\"\"\")\n",
                "_, axes = plt.subplots(2, 2, figsize=(15*w / max(w,h), 15*h / max(w,h)))\n",
                "axes[0,0].imshow(image_pil)\n",
                "axes[0,1].imshow(image_masked)\n",
                "axes[1,0].imshow(output[1])\n",
                "axes[1,1].imshow(output[2])\n",
                "plt.show()"
            ]
        },
        {
            "attachments": {},
            "cell_type": "markdown",
            "metadata": {},
            "source": [
                "### Plot attention flow map\n"
            ]
        },
        {
            "cell_type": "code",
            "execution_count": null,
            "metadata": {},
            "outputs": [],
            "source": [
                "plt.imshow(output[3][0].cpu().permute(1, 2, 0))"
            ]
        },
        {
            "attachments": {},
            "cell_type": "markdown",
            "metadata": {},
            "source": [
                "## Test Contextual Attention\n"
            ]
        },
        {
            "cell_type": "code",
            "execution_count": null,
            "metadata": {},
            "outputs": [],
            "source": [
                "\n",
                "from model.networks import ContextualAttention\n",
                "#from model.networks_tf import ContextualAttention\n",
                "\n",
                "\n",
                "contextual_attention = ContextualAttention(ksize=3, stride=1, rate=2, \n",
                "                                           fuse_k=3, softmax_scale=10, \n",
                "                                           fuse=False,\n",
                "                                           return_flow=True)\n",
                "\n",
                "imageB = 'examples/style_transfer/bike.jpg'\n",
                "imageA = 'examples/style_transfer/bnw_butterfly.png'\n",
                "\n",
                "def test_contextual_attention(imageA, imageB):\n",
                "    \"\"\"Test contextual attention layer with 3-channel image input\n",
                "    (instead of n-channel feature).\n",
                "    \n",
                "    \"\"\"\n",
                "    rate = 2\n",
                "    stride = 1\n",
                "    grid = rate*stride\n",
                "    \n",
                "    b = Image.open(imageA)\n",
                "    b = b.resize((b.width//2, b.height//2), resample=Image.BICUBIC)\n",
                "    b = T.ToTensor()(b)\n",
                "\n",
                "    _, h, w = b.shape\n",
                "    b = b[:, :h//grid*grid, :w//grid*grid].unsqueeze(0)\n",
                "\n",
                "    print(f\"Size of imageA: {b.shape}\")\n",
                "\n",
                "    f = T.ToTensor()(Image.open(imageB)) \n",
                "    _, h, w = f.shape\n",
                "    f = f[:, :h//grid*grid, :w//grid*grid].unsqueeze(0)\n",
                " \n",
                "    print(f\"Size of imageB: {f.shape}\")   \n",
                "\n",
                "    yt, flow = contextual_attention(f*255., b*255.)\n",
                "\n",
                "    return yt, flow\n",
                "\n",
                "\n",
                "yt, flow = test_contextual_attention(imageA, imageB)\n",
                "\n",
                "_, (ax1, ax2) = plt.subplots(1, 2, figsize=(15, 10))\n",
                "ax1.imshow(yt[0].permute(1, 2, 0)/255.)\n",
                "ax2.imshow(flow[0].permute(1, 2, 0))\n"
            ]
        }
    ],
    "metadata": {
        "kernelspec": {
            "display_name": "Python 3.9.12 ('base')",
            "language": "python",
            "name": "python3"
        },
        "language_info": {
            "codemirror_mode": {
                "name": "ipython",
                "version": 3
            },
            "file_extension": ".py",
            "mimetype": "text/x-python",
            "name": "python",
            "nbconvert_exporter": "python",
            "pygments_lexer": "ipython3",
            "version": "3.11.8"
        },
        "orig_nbformat": 4,
        "vscode": {
            "interpreter": {
                "hash": "f2e710066212467aef4080e32cd195a064f9d11c337be8995a8a23c3dcd42ac2"
            }
        }
    },
    "nbformat": 4,
    "nbformat_minor": 2
}
